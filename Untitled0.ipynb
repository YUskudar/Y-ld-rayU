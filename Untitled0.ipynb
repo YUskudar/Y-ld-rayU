{
  "nbformat": 4,
  "nbformat_minor": 0,
  "metadata": {
    "colab": {
      "provenance": [],
      "authorship_tag": "ABX9TyNWzJ9Z4FAich1IMNW8C0JM",
      "include_colab_link": true
    },
    "kernelspec": {
      "name": "python3",
      "display_name": "Python 3"
    },
    "language_info": {
      "name": "python"
    },
    "gpuClass": "standard"
  },
  "cells": [
    {
      "cell_type": "markdown",
      "metadata": {
        "id": "view-in-github",
        "colab_type": "text"
      },
      "source": [
        "<a href=\"https://colab.research.google.com/github/YUskudar/Yildiray/blob/master/Untitled0.ipynb\" target=\"_parent\"><img src=\"https://colab.research.google.com/assets/colab-badge.svg\" alt=\"Open In Colab\"/></a>"
      ]
    },
    {
      "cell_type": "code",
      "execution_count": 155,
      "metadata": {
        "id": "OwDzU7Cnxhuj"
      },
      "outputs": [],
      "source": [
        "import torch\n",
        "import torch.nn as nn\n",
        "import torch.optim as optim\n",
        "import pandas as pd\n",
        "from sklearn.model_selection import train_test_split\n",
        "from torch.utils.data import DataLoader, Dataset\n"
      ]
    },
    {
      "cell_type": "code",
      "source": [
        "# Verileri yükleme\n",
        "train_df = pd.read_csv(\"/content/cure_the_princess_train.csv\")\n",
        "valid_df = pd.read_csv(\"/content/cure_the_princess_validation.csv\")\n",
        "test_df = pd.read_csv(\"/content/cure_the_princess_test.csv\")\n"
      ],
      "metadata": {
        "id": "B39zv4eVx3YT"
      },
      "execution_count": 156,
      "outputs": []
    },
    {
      "cell_type": "code",
      "source": [
        "class CustomDataset(Dataset):\n",
        "    def __init__(self, df):\n",
        "        self.df = df\n",
        "    \n",
        "    def __len__(self):\n",
        "        return len(self.df)\n",
        "    \n",
        "    def __getitem__(self, index):\n",
        "        X = self.df.iloc[index, :-1].values.astype('float32')\n",
        "        y = self.df.iloc[index, -1].astype('long')\n",
        "        return X, y\n",
        "\n",
        "train_dataset = CustomDataset(train_df)\n",
        "valid_dataset = CustomDataset(valid_df)\n",
        "test_dataset = CustomDataset(test_df)\n",
        "\n",
        "batch_size = 16\n",
        "train_loader = DataLoader(train_dataset, batch_size=batch_size, shuffle=True)\n",
        "valid_loader = DataLoader(valid_dataset, batch_size=batch_size)\n",
        "test_loader = DataLoader(test_dataset, batch_size=batch_size)\n"
      ],
      "metadata": {
        "id": "QthlfAU8zGkd"
      },
      "execution_count": 157,
      "outputs": []
    },
    {
      "cell_type": "code",
      "source": [
        "class MLP(nn.Module):\n",
        "    def __init__(self, input_size=13, hidden_size1=100, hidden_size2=50, output_size=13):\n",
        "        super(MLP, self).__init__()\n",
        "        self.fc1 = nn.Linear(input_size, hidden_size1)\n",
        "        self.relu1 = nn.ReLU()\n",
        "        self.fc2 = nn.Linear(hidden_size1, hidden_size2)\n",
        "        self.relu2 = nn.ReLU()\n",
        "        self.fc3 = nn.Linear(hidden_size2, output_size)\n",
        "        self.sigmoid = nn.Sigmoid()\n",
        "\n",
        "    def forward(self, x):\n",
        "        x = self.fc1(x)\n",
        "        x = self.relu1(x)\n",
        "        x = self.fc2(x)\n",
        "        x = self.relu2(x)\n",
        "        x = self.fc3(x)\n",
        "        x = self.sigmoid(x)\n",
        "        return x\n",
        "\n",
        "\n",
        "model = MLP()"
      ],
      "metadata": {
        "id": "YPglMMc20Qaq"
      },
      "execution_count": 158,
      "outputs": []
    },
    {
      "cell_type": "code",
      "source": [
        "criterion = nn.CrossEntropyLoss()\n",
        "optimizer = optim.SGD(model.parameters(), lr=0.01)\n"
      ],
      "metadata": {
        "id": "Ripi4gUf0SiC"
      },
      "execution_count": 159,
      "outputs": []
    },
    {
      "cell_type": "code",
      "source": [
        "epochs = 500\n",
        "for epoch in range(epochs):\n",
        "    train_loss = 0.0\n",
        "    valid_loss = 0.0\n",
        "    model.train()\n",
        "    for i, data in enumerate(train_loader):\n",
        "        inputs, labels = data\n",
        "        optimizer.zero_grad()\n",
        "        outputs = model(inputs)\n",
        "        loss = criterion(outputs, labels)\n",
        "        loss.backward()\n",
        "        optimizer.step()\n",
        "        train_loss += loss.item() * inputs.size(0)\n",
        "        \n",
        "    model.eval()\n",
        "    for i, data in enumerate(valid_loader):\n",
        "        inputs, labels = data\n",
        "        outputs = model(inputs)\n",
        "        loss = criterion(outputs, labels)\n",
        "        valid_loss += loss.item() * inputs.size(0)\n",
        "        \n",
        "    train_loss /= len(train_loader.dataset)\n",
        "    valid_loss /= len(valid_loader.dataset)\n",
        "  "
      ],
      "metadata": {
        "id": "bp8YHSJs0Zt8"
      },
      "execution_count": 160,
      "outputs": []
    },
    {
      "cell_type": "code",
      "source": [
        "model.eval()\n",
        "with torch.no_grad():\n",
        "    correct = 0\n",
        "    total = 0\n",
        "    for data in test_loader:\n",
        "        inputs, labels = data\n",
        "        outputs = model(inputs)\n",
        "        _, predicted = torch.max(outputs.data, 1)\n",
        "        total += labels.size(0)\n",
        "        correct += (predicted == labels).sum().item()\n",
        "        \n",
        "\n",
        "\n",
        "torch.manual_seed(190401089)\n",
        "\n",
        "\n",
        "model = MLP(input_size=13, hidden_size1=100, hidden_size2=50, output_size=3)\n",
        "\n",
        "\n",
        "criterion = nn.CrossEntropyLoss()\n",
        "\n",
        "optimizer = optim.SGD(model.parameters(), lr=0.1)\n",
        "\n",
        "\n",
        "train_loader = DataLoader(train_dataset, batch_size=16, shuffle=True)\n",
        "valid_loader = DataLoader(valid_dataset, batch_size=16, shuffle=False)\n",
        "\n",
        "\n",
        "train_losses = []\n",
        "valid_losses = []\n",
        "for epoch in range(100):\n",
        "    \n",
        "    model.train()\n",
        "    running_train_loss = 0.0\n",
        "    for i, (inputs, labels) in enumerate(train_loader):\n",
        "        optimizer.zero_grad()\n",
        "        outputs = model(inputs)\n",
        "        loss = criterion(outputs, labels)\n",
        "        loss.backward()\n",
        "        optimizer.step()\n",
        "        running_train_loss += loss.item()\n",
        "    train_loss = running_train_loss / len(train_loader)\n",
        "    train_losses.append(train_loss)\n",
        "\n",
        " \n",
        "    model.eval()\n",
        "    running_valid_loss = 0.0\n",
        "    with torch.no_grad():\n",
        "        for i, (inputs, labels) in enumerate(valid_loader):\n",
        "            outputs = model(inputs)\n",
        "            loss = criterion(outputs, labels)\n",
        "            running_valid_loss += loss.item()\n",
        "        valid_loss = running_valid_loss / len(valid_loader)\n",
        "        valid_losses.append(valid_loss)\n",
        "\n",
        "    print(f\"Epoch {epoch+1}, Train Loss: {train_loss:.4f}, Valid Loss: {valid_loss:.4f}\")\n",
        "\n",
        "\n",
        "\n"
      ],
      "metadata": {
        "colab": {
          "base_uri": "https://localhost:8080/"
        },
        "id": "hrpmw5480lyK",
        "outputId": "c97b0847-2c2f-4543-b9fd-c8b4d4f0a377"
      },
      "execution_count": 161,
      "outputs": [
        {
          "output_type": "stream",
          "name": "stdout",
          "text": [
            "Epoch 1, Train Loss: 0.8653, Valid Loss: 0.8622\n",
            "Epoch 2, Train Loss: 0.8621, Valid Loss: 0.8621\n",
            "Epoch 3, Train Loss: 0.8620, Valid Loss: 0.8620\n",
            "Epoch 4, Train Loss: 0.8620, Valid Loss: 0.8619\n",
            "Epoch 5, Train Loss: 0.8618, Valid Loss: 0.8615\n",
            "Epoch 6, Train Loss: 0.8311, Valid Loss: 0.8374\n",
            "Epoch 7, Train Loss: 0.7928, Valid Loss: 0.7675\n",
            "Epoch 8, Train Loss: 0.7815, Valid Loss: 0.7532\n",
            "Epoch 9, Train Loss: 0.7671, Valid Loss: 0.7713\n",
            "Epoch 10, Train Loss: 0.7678, Valid Loss: 0.7553\n",
            "Epoch 11, Train Loss: 0.7617, Valid Loss: 0.7462\n",
            "Epoch 12, Train Loss: 0.7603, Valid Loss: 0.7528\n",
            "Epoch 13, Train Loss: 0.7540, Valid Loss: 0.7471\n",
            "Epoch 14, Train Loss: 0.7518, Valid Loss: 0.7420\n",
            "Epoch 15, Train Loss: 0.7487, Valid Loss: 0.7442\n",
            "Epoch 16, Train Loss: 0.7515, Valid Loss: 0.7421\n",
            "Epoch 17, Train Loss: 0.7462, Valid Loss: 0.9574\n",
            "Epoch 18, Train Loss: 0.7493, Valid Loss: 0.7522\n",
            "Epoch 19, Train Loss: 0.7436, Valid Loss: 0.7405\n",
            "Epoch 20, Train Loss: 0.6899, Valid Loss: 0.6348\n",
            "Epoch 21, Train Loss: 0.6416, Valid Loss: 0.6139\n",
            "Epoch 22, Train Loss: 0.6310, Valid Loss: 0.6135\n",
            "Epoch 23, Train Loss: 0.6313, Valid Loss: 0.6205\n",
            "Epoch 24, Train Loss: 0.6254, Valid Loss: 0.6907\n",
            "Epoch 25, Train Loss: 0.6158, Valid Loss: 0.6109\n",
            "Epoch 26, Train Loss: 0.6101, Valid Loss: 0.6171\n",
            "Epoch 27, Train Loss: 0.6095, Valid Loss: 0.7645\n",
            "Epoch 28, Train Loss: 0.6062, Valid Loss: 0.6172\n",
            "Epoch 29, Train Loss: 0.6005, Valid Loss: 0.6035\n",
            "Epoch 30, Train Loss: 0.6036, Valid Loss: 0.5953\n",
            "Epoch 31, Train Loss: 0.5975, Valid Loss: 0.6130\n",
            "Epoch 32, Train Loss: 0.5989, Valid Loss: 0.6023\n",
            "Epoch 33, Train Loss: 0.6021, Valid Loss: 0.6010\n",
            "Epoch 34, Train Loss: 0.5885, Valid Loss: 0.6022\n",
            "Epoch 35, Train Loss: 0.5902, Valid Loss: 0.5960\n",
            "Epoch 36, Train Loss: 0.5905, Valid Loss: 0.5985\n",
            "Epoch 37, Train Loss: 0.5933, Valid Loss: 0.8224\n",
            "Epoch 38, Train Loss: 0.5895, Valid Loss: 0.6017\n",
            "Epoch 39, Train Loss: 0.5858, Valid Loss: 0.5970\n",
            "Epoch 40, Train Loss: 0.5819, Valid Loss: 0.6118\n",
            "Epoch 41, Train Loss: 0.5824, Valid Loss: 0.6186\n",
            "Epoch 42, Train Loss: 0.5876, Valid Loss: 0.5971\n",
            "Epoch 43, Train Loss: 0.5819, Valid Loss: 0.5996\n",
            "Epoch 44, Train Loss: 0.5770, Valid Loss: 0.5982\n",
            "Epoch 45, Train Loss: 0.5785, Valid Loss: 0.6022\n",
            "Epoch 46, Train Loss: 0.5819, Valid Loss: 0.6120\n",
            "Epoch 47, Train Loss: 0.5800, Valid Loss: 0.5978\n",
            "Epoch 48, Train Loss: 0.5742, Valid Loss: 0.5978\n",
            "Epoch 49, Train Loss: 0.5793, Valid Loss: 0.5985\n",
            "Epoch 50, Train Loss: 0.5805, Valid Loss: 0.5957\n",
            "Epoch 51, Train Loss: 0.5747, Valid Loss: 0.5976\n",
            "Epoch 52, Train Loss: 0.5769, Valid Loss: 0.6176\n",
            "Epoch 53, Train Loss: 0.5753, Valid Loss: 0.5986\n",
            "Epoch 54, Train Loss: 0.5764, Valid Loss: 0.6131\n",
            "Epoch 55, Train Loss: 0.5747, Valid Loss: 0.6078\n",
            "Epoch 56, Train Loss: 0.5723, Valid Loss: 0.6028\n",
            "Epoch 57, Train Loss: 0.5690, Valid Loss: 0.6168\n",
            "Epoch 58, Train Loss: 0.5716, Valid Loss: 0.6123\n",
            "Epoch 59, Train Loss: 0.5744, Valid Loss: 0.6015\n",
            "Epoch 60, Train Loss: 0.5692, Valid Loss: 0.6013\n",
            "Epoch 61, Train Loss: 0.5696, Valid Loss: 0.6060\n",
            "Epoch 62, Train Loss: 0.5717, Valid Loss: 0.6144\n",
            "Epoch 63, Train Loss: 0.5703, Valid Loss: 0.7012\n",
            "Epoch 64, Train Loss: 0.5857, Valid Loss: 0.6061\n",
            "Epoch 65, Train Loss: 0.5725, Valid Loss: 0.6020\n",
            "Epoch 66, Train Loss: 0.5733, Valid Loss: 0.6238\n",
            "Epoch 67, Train Loss: 0.5730, Valid Loss: 0.5989\n",
            "Epoch 68, Train Loss: 0.5676, Valid Loss: 0.6030\n",
            "Epoch 69, Train Loss: 0.5666, Valid Loss: 0.6041\n",
            "Epoch 70, Train Loss: 0.5699, Valid Loss: 0.6059\n",
            "Epoch 71, Train Loss: 0.5723, Valid Loss: 0.6053\n",
            "Epoch 72, Train Loss: 0.5672, Valid Loss: 0.5956\n",
            "Epoch 73, Train Loss: 0.5772, Valid Loss: 0.5996\n",
            "Epoch 74, Train Loss: 0.5660, Valid Loss: 0.5983\n",
            "Epoch 75, Train Loss: 0.5673, Valid Loss: 0.6038\n",
            "Epoch 76, Train Loss: 0.5644, Valid Loss: 0.6008\n",
            "Epoch 77, Train Loss: 0.5696, Valid Loss: 0.6061\n",
            "Epoch 78, Train Loss: 0.5686, Valid Loss: 0.6072\n",
            "Epoch 79, Train Loss: 0.5682, Valid Loss: 0.5976\n",
            "Epoch 80, Train Loss: 0.5730, Valid Loss: 0.5967\n",
            "Epoch 81, Train Loss: 0.5669, Valid Loss: 0.6058\n",
            "Epoch 82, Train Loss: 0.5695, Valid Loss: 0.7515\n",
            "Epoch 83, Train Loss: 0.5815, Valid Loss: 0.5964\n",
            "Epoch 84, Train Loss: 0.5636, Valid Loss: 0.6022\n",
            "Epoch 85, Train Loss: 0.5716, Valid Loss: 0.5999\n",
            "Epoch 86, Train Loss: 0.5636, Valid Loss: 0.6083\n",
            "Epoch 87, Train Loss: 0.5634, Valid Loss: 0.6087\n",
            "Epoch 88, Train Loss: 0.5623, Valid Loss: 0.6046\n",
            "Epoch 89, Train Loss: 0.5614, Valid Loss: 0.6053\n",
            "Epoch 90, Train Loss: 0.5613, Valid Loss: 0.6055\n",
            "Epoch 91, Train Loss: 0.5613, Valid Loss: 0.6061\n",
            "Epoch 92, Train Loss: 0.5612, Valid Loss: 0.6055\n",
            "Epoch 93, Train Loss: 0.5612, Valid Loss: 0.6057\n",
            "Epoch 94, Train Loss: 0.5612, Valid Loss: 0.6060\n",
            "Epoch 95, Train Loss: 0.5612, Valid Loss: 0.6059\n",
            "Epoch 96, Train Loss: 0.5611, Valid Loss: 0.6059\n",
            "Epoch 97, Train Loss: 0.5635, Valid Loss: 0.6058\n",
            "Epoch 98, Train Loss: 0.5635, Valid Loss: 0.6057\n",
            "Epoch 99, Train Loss: 0.5611, Valid Loss: 0.6056\n",
            "Epoch 100, Train Loss: 0.5611, Valid Loss: 0.6052\n"
          ]
        }
      ]
    },
    {
      "cell_type": "code",
      "source": [
        "import matplotlib.pyplot as plt\n",
        "\n",
        "epochs = range(1, len(train_losses) + 1)\n",
        "\n",
        "plt.plot(epochs, train_losses, 'g', label='Training loss')\n",
        "plt.plot(epochs, valid_losses, 'b', label='Validation loss')\n",
        "plt.title('Training and Validation Loss')\n",
        "plt.xlabel('Epochs')\n",
        "plt.ylabel('Loss')\n",
        "plt.legend()\n",
        "plt.show()\n"
      ],
      "metadata": {
        "colab": {
          "base_uri": "https://localhost:8080/",
          "height": 472
        },
        "id": "lNyGWXz489xH",
        "outputId": "b8ec2a35-f5d3-47ac-a9ca-79cae8223cc0"
      },
      "execution_count": 162,
      "outputs": [
        {
          "output_type": "display_data",
          "data": {
            "text/plain": [
              "<Figure size 640x480 with 1 Axes>"
            ],
            "image/png": "[encoded data removed]"
          },
          "metadata": {}
        }
      ]
    },
    {
      "cell_type": "code",
      "source": [
        "from sklearn.metrics import accuracy_score, f1_score, precision_score, recall_score\n",
        "\n",
        "\n",
        "print(f\"Recall:{recall:.4f}\")\n",
        "print(f\"F1-Score:{f1:.4f}\")\n",
        "print(f\"Accuracy:%{accuracy:.4f}\")\n",
        "print(f\"Precision: {precision:.4f}\")\n",
        "\n"
      ],
      "metadata": {
        "colab": {
          "base_uri": "https://localhost:8080/"
        },
        "id": "pbta5wpn9q8S",
        "outputId": "5c32e5f7-ba75-466b-edfe-9f6deaac8df6"
      },
      "execution_count": 163,
      "outputs": [
        {
          "output_type": "stream",
          "name": "stdout",
          "text": [
            "Recall:0.9547\n",
            "F1-Score:0.9547\n",
            "Accuracy:%95.3368\n",
            "Precision: 0.9707\n"
          ]
        }
      ]
    }
  ]
}